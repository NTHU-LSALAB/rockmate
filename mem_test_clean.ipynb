{
 "cells": [
  {
   "cell_type": "code",
   "execution_count": null,
   "id": "b9c62333-3099-4148-a096-d8684a8b4a9a",
   "metadata": {},
   "outputs": [],
   "source": [
    "from mem_tools import *\n",
    "newmod = mod()\n",
    "from rockmate.utils import *\n",
    "\n",
    "ref_print_atoms[0] = False\n",
    "print(newmod.fwd_seq)\n",
    "print(newmod.bwd_seq) "
   ]
  },
  {
   "cell_type": "code",
   "execution_count": null,
   "id": "528badc4-a34c-4394-86dd-7baa7da531a9",
   "metadata": {},
   "outputs": [],
   "source": [
    "context1 = torch.randint(0,600, [10,10])\n",
    "doc = run(newmod, context1)"
   ]
  },
  {
   "cell_type": "code",
   "execution_count": null,
   "id": "20e030b3-671c-4436-bc32-544257aa6d6f",
   "metadata": {},
   "outputs": [],
   "source": [
    "import matplotlib.pyplot as plt\n",
    "\n",
    "mem_real = []\n",
    "mem_theory = []\n",
    "\n",
    "for i,c,m in doc:\n",
    "    mem_real.append(m)\n",
    "    op = newmod.executor.op_list[i]\n",
    "    if op.is_fgt:\n",
    "        mem_theory.append(-op.n.del_mem.v)\n",
    "    else:\n",
    "        mem_theory.append(op.n.run_mem.v)\n",
    "\n",
    "plt.plot(np.cumsum(np.array(mem_real)), label='real')\n",
    "plt.plot(np.cumsum(np.array(mem_theory)), label='theory')\n",
    "plt.legend()\n",
    "plt.show()\n",
    "print(\"The largest difference:\",np.argmax(np.abs(np.array(mem_theory)-np.array(mem_real))))"
   ]
  },
  {
   "cell_type": "code",
   "execution_count": null,
   "id": "bef94d25-0b39-40e8-9b20-795870662e94",
   "metadata": {},
   "outputs": [],
   "source": [
    "## Here you should see all the ops with differen\n",
    "compare(doc,newmod)"
   ]
  }
 ],
 "metadata": {
  "kernelspec": {
   "display_name": "Python 3 (ipykernel)",
   "language": "python",
   "name": "python3"
  },
  "language_info": {
   "codemirror_mode": {
    "name": "ipython",
    "version": 3
   },
   "file_extension": ".py",
   "mimetype": "text/x-python",
   "name": "python",
   "nbconvert_exporter": "python",
   "pygments_lexer": "ipython3",
   "version": "3.9.12"
  }
 },
 "nbformat": 4,
 "nbformat_minor": 5
}
