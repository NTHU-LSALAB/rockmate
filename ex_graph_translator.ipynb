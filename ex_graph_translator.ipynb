{
 "cells": [
  {
   "cell_type": "code",
   "execution_count": 1,
   "id": "324cf255-3983-42fb-9e66-0fda9bd2e72f",
   "metadata": {},
   "outputs": [],
   "source": [
    "import torch\n",
    "import pgb\n",
    "from example_modules import GPT2\n",
    "\n",
    "mod = GPT2(nlayers=8,dropout=0)\n",
    "context1 = torch.tensor([[ 464, 5440, 4534]])\n",
    "d = {\"src\":context1}"
   ]
  },
  {
   "cell_type": "code",
   "execution_count": 2,
   "id": "6336b269-3779-4049-a506-2c86aa2116cc",
   "metadata": {},
   "outputs": [],
   "source": [
    "import warnings ; warnings.filterwarnings(\"ignore\")\n",
    "GPT2_ag = pgb.make_all_graphs(mod,d,check_device_is_gpu=False)"
   ]
  },
  {
   "cell_type": "code",
   "execution_count": 3,
   "id": "594663a3-d919-4de1-9c73-28dc10fcfbf7",
   "metadata": {},
   "outputs": [
    {
     "name": "stdout",
     "output_type": "stream",
     "text": [
      "Connexe component n°0: [0]\n",
      "Connexe component n°1: [1, 2, 3, 4, 5, 6, 7]\n",
      "Connexe component n°2: [8]\n",
      "Connexe component n°3: [9]\n",
      "We now have only 4 blocks to handle, instead of 10\n"
     ]
    }
   ],
   "source": [
    "list_kg = GPT2_ag.K_graph_list\n",
    "list_kg_eco = pgb.graph_translator.S_list_to_K_list_eco(GPT2_ag.S_graph_list,mod,print_cc=True)"
   ]
  },
  {
   "cell_type": "code",
   "execution_count": 4,
   "id": "be7afdee-5e74-4945-8713-1455ce1153d4",
   "metadata": {},
   "outputs": [
    {
     "name": "stdout",
     "output_type": "stream",
     "text": [
      "10 K_graphs in seq, with :\n",
      "8+25+25+25+25+25+25+25+25+3 = 211 Comp nodes\n",
      "7+28+28+28+28+28+28+28+29+3 = 235 Data nodes\n",
      "=> total of 446 nodes\n"
     ]
    }
   ],
   "source": [
    "pgb.print_graph_list(list_kg_eco,name=\"list_kg_eco\",open=False)"
   ]
  },
  {
   "cell_type": "markdown",
   "id": "55f13000-73df-4c68-808d-f4c2aa8f70b9",
   "metadata": {},
   "source": [
    "## Check the equivalence of list_kg and list_kg_eco"
   ]
  },
  {
   "cell_type": "code",
   "execution_count": 5,
   "id": "b5aad77e-a797-499c-acf1-7a013e8b5b65",
   "metadata": {},
   "outputs": [
    {
     "name": "stdout",
     "output_type": "stream",
     "text": [
      "0 1 2 3 4 5 6 7 8 9 "
     ]
    }
   ],
   "source": [
    "for i,(kg_real,kg_eco) in enumerate(zip(list_kg,list_kg_eco)):\n",
    "    print(i,end=\" \")\n",
    "    kg_real.__eq__(kg_eco,force_order=True,raise_exception=True)\n",
    "    # set.__iter__'s inner order depends on the order in which elmts were added.\n",
    "    # Moreover, between a copy of a graph and a complete construction this \n",
    "    # order of insertion is obviously different. That's why I need to \"force_order\"\n",
    "    # when checking .deps/.users equalities for each node."
   ]
  },
  {
   "cell_type": "markdown",
   "id": "821816b8-8044-40b7-b408-29ecba1bb3f2",
   "metadata": {},
   "source": [
    "## Check perfect determinism of both functions"
   ]
  },
  {
   "cell_type": "code",
   "execution_count": 6,
   "id": "17a52bdd-c2c0-4831-aa60-1fb0cfd7043c",
   "metadata": {},
   "outputs": [
    {
     "name": "stdout",
     "output_type": "stream",
     "text": [
      "classic construction determinism : True\n",
      "economic construction determinism : True\n"
     ]
    }
   ],
   "source": [
    "GPT2_ag2 = pgb.make_all_graphs(mod,d,check_device_is_gpu=False,bool_kg=False)\n",
    "list_kg_eco2 = pgb.graph_translator.S_list_to_K_list_eco(GPT2_ag2.S_graph_list,mod)\n",
    "\n",
    "# Here we don't even need to \"force_order\"\n",
    "print(f\"classic construction determinism : {GPT2_ag2.K_graph_list == list_kg}\")\n",
    "print(f\"economic construction determinism : {list_kg_eco == list_kg_eco2}\")"
   ]
  },
  {
   "cell_type": "markdown",
   "id": "2a537a48-2bf7-45ea-9253-35984e1f414b",
   "metadata": {},
   "source": [
    "## Compare the time taken by classic/economic methodes."
   ]
  },
  {
   "cell_type": "code",
   "execution_count": 7,
   "id": "b9527793-5915-4d8e-bc10-a4e5dc5c76b2",
   "metadata": {},
   "outputs": [],
   "source": [
    "import time\n",
    "\n",
    "n_layers = 8\n",
    "n_test = 3\n",
    "mod = GPT2(nlayers=n_layers,dropout=0)"
   ]
  },
  {
   "cell_type": "code",
   "execution_count": 8,
   "id": "2cd67641-9969-4999-8a71-9488adb7b079",
   "metadata": {},
   "outputs": [
    {
     "name": "stdout",
     "output_type": "stream",
     "text": [
      "For the whole process (ie including make_B,B_to_D,D_to_S,cut_S)\n",
      "Classic : ...\n",
      "-> mean time to generate list_kg: 1.8976301352183025\n",
      "Economic : ...\n",
      "-> mean time to generate list_kg_eco: 1.4367828369140625\n",
      "==========\n",
      "Just to process S_list_to_K_list : \n",
      "Classic : ...\n",
      "-> mean time for S_list_to_K_list: 1.4246115684509277\n",
      "Economic : ...\n",
      "-> mean time for S_list_to_K_list_eco: 1.0807079474131267\n"
     ]
    }
   ],
   "source": [
    "print(\"For the whole process (ie including make_B,B_to_D,D_to_S,cut_S)\")\n",
    "print(\"Classic : \",end=\"\")\n",
    "start_time = time.time()\n",
    "for _ in range(n_test):\n",
    "    list_kg = pgb.make_all_graphs(\n",
    "        mod,d,check_device_is_gpu=False,\n",
    "        bool_kg=False).K_graph_list\n",
    "    print(\".\",end=\"\")\n",
    "print(f\"\\n-> mean time to generate list_kg: {(time.time() - start_time)/n_test}\")\n",
    "\n",
    "print(\"Economic : \",end=\"\")\n",
    "start_time = time.time()\n",
    "for _ in range(n_test):\n",
    "    list_sg = pgb.make_all_graphs(\n",
    "        mod,d,check_device_is_gpu=False,\n",
    "        bool_kg=False,bool_list_kg=False).S_graph_list\n",
    "    list_kg_eco = pgb.graph_translator.S_list_to_K_list_eco(list_sg,mod)\n",
    "    print(\".\",end=\"\")\n",
    "print(f\"\\n-> mean time to generate list_kg_eco: {(time.time() - start_time)/n_test}\")\n",
    "\n",
    "print(\"=\"*10)\n",
    "\n",
    "print(\"Just to process S_list_to_K_list : \")\n",
    "print(\"Classic : \",end=\"\")\n",
    "start_time = time.time()\n",
    "for _ in range(n_test):\n",
    "    list_kg = pgb.Ktools.S_list_to_K_list(list_sg,mod)\n",
    "    print(\".\",end=\"\")\n",
    "print(f\"\\n-> mean time for S_list_to_K_list: {(time.time() - start_time)/n_test}\")\n",
    "\n",
    "print(\"Economic : \",end=\"\")\n",
    "start_time = time.time()\n",
    "for _ in range(n_test):\n",
    "    list_kg_eco = pgb.graph_translator.S_list_to_K_list_eco(list_sg,mod)\n",
    "    print(\".\",end=\"\")\n",
    "print(f\"\\n-> mean time for S_list_to_K_list_eco: {(time.time() - start_time)/n_test}\")"
   ]
  }
 ],
 "metadata": {
  "kernelspec": {
   "display_name": "Python 3 (ipykernel)",
   "language": "python",
   "name": "python3"
  },
  "language_info": {
   "codemirror_mode": {
    "name": "ipython",
    "version": 3
   },
   "file_extension": ".py",
   "mimetype": "text/x-python",
   "name": "python",
   "nbconvert_exporter": "python",
   "pygments_lexer": "ipython3",
   "version": "3.9.12"
  }
 },
 "nbformat": 4,
 "nbformat_minor": 5
}
