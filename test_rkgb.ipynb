{
 "cells": [
  {
   "cell_type": "code",
   "execution_count": null,
   "metadata": {},
   "outputs": [],
   "source": [
    "import torch\n",
    "import rkgb\n",
    "\n",
    "device = torch.device(\"cuda\" if torch.cuda.is_available() else \"cpu\")\n",
    "print(f\"device : {device}\")"
   ]
  },
  {
   "attachments": {},
   "cell_type": "markdown",
   "id": "93e06214",
   "metadata": {},
   "source": [
    "## -> GPT 2"
   ]
  },
  {
   "cell_type": "code",
   "execution_count": null,
   "metadata": {},
   "outputs": [],
   "source": [
    "from models.GPT import GPT2\n",
    "\n",
    "mod_gpt2 = GPT2(nlayers=12,dropout=0.1)\n",
    "mod_gpt2.to(device)\n",
    "input_gpt2 = torch.randint(5400,(100,20),device = device)"
   ]
  },
  {
   "cell_type": "code",
   "execution_count": null,
   "metadata": {},
   "outputs": [],
   "source": [
    "import warnings ; warnings.filterwarnings(\"ignore\")\n",
    "rkgb_on_gpt2 = rkgb.test_rkgb(mod_gpt2,input_gpt2)"
   ]
  },
  {
   "cell_type": "code",
   "execution_count": null,
   "metadata": {},
   "outputs": [],
   "source": [
    "del mod_gpt2,input_gpt2,rkgb_on_gpt2"
   ]
  },
  {
   "attachments": {},
   "cell_type": "markdown",
   "id": "93e06214",
   "metadata": {},
   "source": [
    "## -> Resnet101"
   ]
  },
  {
   "cell_type": "code",
   "execution_count": null,
   "metadata": {},
   "outputs": [],
   "source": [
    "from torchvision.models import resnet101\n",
    "\n",
    "mod_resnet101 = resnet101()\n",
    "mod_resnet101.to(device)\n",
    "input_resnet101 = torch.randn((100,3,100,100),device=device,requires_grad=True)"
   ]
  },
  {
   "cell_type": "code",
   "execution_count": null,
   "metadata": {},
   "outputs": [],
   "source": [
    "import warnings ; warnings.filterwarnings(\"ignore\")\n",
    "rkgb_on_resnet101 = rkgb.test_rkgb(mod_resnet101,input_resnet101)"
   ]
  },
  {
   "cell_type": "code",
   "execution_count": null,
   "metadata": {},
   "outputs": [],
   "source": [
    "del mod_resnet101,input_resnet101,rkgb_on_resnet101"
   ]
  },
  {
   "attachments": {},
   "cell_type": "markdown",
   "metadata": {},
   "source": [
    "## -> RegNet32"
   ]
  },
  {
   "cell_type": "code",
   "execution_count": null,
   "metadata": {},
   "outputs": [],
   "source": [
    "from torchvision.models import regnet_x_32gf\n",
    "\n",
    "mod_regnet32 = regnet_x_32gf()\n",
    "mod_regnet32.to(device)\n",
    "\n",
    "input_regnet32 = torch.randn(1, 3, 224, 224,device=device)"
   ]
  },
  {
   "cell_type": "code",
   "execution_count": null,
   "metadata": {},
   "outputs": [],
   "source": [
    "import warnings ; warnings.filterwarnings(\"ignore\")\n",
    "rkgb_on_regnet32 = rkgb.test_rkgb(mod_regnet32,input_regnet32)"
   ]
  },
  {
   "cell_type": "code",
   "execution_count": null,
   "metadata": {},
   "outputs": [],
   "source": [
    "del mod_regnet32,input_regnet32,rkgb_on_regnet32"
   ]
  },
  {
   "attachments": {},
   "cell_type": "markdown",
   "metadata": {},
   "source": [
    "## -> nn.Transformer"
   ]
  },
  {
   "cell_type": "code",
   "execution_count": null,
   "metadata": {},
   "outputs": [],
   "source": [
    "mod_tf = torch.nn.Transformer(\n",
    "    nhead=16, \n",
    "    num_encoder_layers=1,\n",
    "    num_decoder_layers=1)\n",
    "mod_tf.to(device)\n",
    "\n",
    "input_tf = [\n",
    "    torch.rand((10, 32, 512),device=device),\n",
    "    torch.rand((10, 32, 512),device=device),\n",
    "]"
   ]
  },
  {
   "cell_type": "code",
   "execution_count": null,
   "metadata": {},
   "outputs": [],
   "source": [
    "import warnings ; warnings.filterwarnings(\"ignore\")\n",
    "rkgb_on_tf = rkgb.test_rkgb(mod_tf,input_tf)"
   ]
  },
  {
   "cell_type": "code",
   "execution_count": null,
   "metadata": {},
   "outputs": [],
   "source": [
    "del mod_tf,input_tf\n",
    "del rkgb_on_tf"
   ]
  }
 ],
 "metadata": {
  "kernelspec": {
   "display_name": "Python 3",
   "language": "python",
   "name": "python3"
  },
  "language_info": {
   "codemirror_mode": {
    "name": "ipython",
    "version": 3
   },
   "file_extension": ".py",
   "mimetype": "text/x-python",
   "name": "python",
   "nbconvert_exporter": "python",
   "pygments_lexer": "ipython3"
  },
  "orig_nbformat": 4,
  "vscode": {
   "interpreter": {
    "hash": "31f2aee4e71d21fbe5cf8b01ff0e069b9275f58929596ceb00d14d90e3e16cd6"
   }
  }
 },
 "nbformat": 4,
 "nbformat_minor": 2
}
