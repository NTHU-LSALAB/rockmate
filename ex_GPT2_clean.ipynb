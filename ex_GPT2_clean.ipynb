{
 "cells": [
  {
   "cell_type": "code",
   "execution_count": null,
   "id": "8818dbb8-53d3-4417-94b4-fec607741ec5",
   "metadata": {},
   "outputs": [],
   "source": [
    "import torch\n",
    "import pytorch_gb as pgb\n",
    "from example_modules import GPT2"
   ]
  },
  {
   "cell_type": "code",
   "execution_count": null,
   "id": "47d66763-dca9-49b5-83e9-a82f67067a84",
   "metadata": {},
   "outputs": [],
   "source": [
    "model2 = GPT2(nlayers=4,dropout=0)\n",
    "context1 = torch.tensor([[ 464, 5440, 4534]])\n",
    "d = {\"src\":context1}"
   ]
  },
  {
   "cell_type": "code",
   "execution_count": null,
   "id": "5d73073c-f030-4177-95bc-65d3e13faccd",
   "metadata": {},
   "outputs": [],
   "source": [
    "import warnings ; warnings.filterwarnings(\"ignore\")\n",
    "GPT2_ag = pgb.make_all_graphs(model2,d)"
   ]
  },
  {
   "cell_type": "code",
   "execution_count": null,
   "id": "8ff2abca-5742-4971-9740-1e6c6ac22eff",
   "metadata": {},
   "outputs": [],
   "source": [
    "pgb.print_all_graphs(GPT2_ag,\"GPT2\",False)"
   ]
  },
  {
   "cell_type": "code",
   "execution_count": null,
   "id": "2e584b84-c4e7-407e-b3e9-b8ec4eb3b551",
   "metadata": {},
   "outputs": [],
   "source": [
    "tf_mod = torch.nn.Transformer(nhead=16, num_encoder_layers=1)\n",
    "src = torch.rand((10, 32, 512))\n",
    "tgt = torch.rand((10, 32, 512))\n",
    "tf_inputs = {\"src\":src,\"tgt\":tgt}"
   ]
  },
  {
   "cell_type": "code",
   "execution_count": null,
   "id": "82a19b27-a350-4db6-afaf-305e3368983c",
   "metadata": {},
   "outputs": [],
   "source": [
    "tf_ag = pgb.make_all_graphs(tf_mod,tf_inputs)"
   ]
  },
  {
   "cell_type": "code",
   "execution_count": null,
   "id": "8b1a03b4-6979-420b-8b48-c4c9fd721081",
   "metadata": {},
   "outputs": [],
   "source": [
    "# pgb.print_all_graphs(tf_ag,\"nn.tf\",False) -> the K_graph is to complicated for graphviz to handle it"
   ]
  },
  {
   "cell_type": "markdown",
   "id": "c7a83577-b38c-4724-89e6-f4b340b10aa7",
   "metadata": {},
   "source": [
    "===================\n",
    "## -> rockmate\n",
    "==================="
   ]
  },
  {
   "cell_type": "code",
   "execution_count": null,
   "id": "d73d9dd2-0105-4fa7-a278-c043f41be42d",
   "metadata": {},
   "outputs": [],
   "source": [
    "import rockmate as rk"
   ]
  },
  {
   "cell_type": "raw",
   "id": "7cb137cc-133c-4d5e-a76e-508585333b08",
   "metadata": {},
   "source": [
    "# direct example\n",
    "budget = 100000000\n",
    "\n",
    "sched_result, g = rk.use_chk.make_sched(GPT2_ag.K_graph, budget)\n",
    "translator = rk.use_chk.Sched_to_ops(g, GPT2_ag.K_graph)\n",
    "fwd_ops,bwd_ops = translator.generate_sched_ops(sched_result)\n",
    "\n",
    "print(f\"length of the code : {len(fwd_ops)}+{len(bwd_ops)}\")"
   ]
  },
  {
   "cell_type": "code",
   "execution_count": null,
   "id": "f5568bdc-e4a4-4940-9864-c4c0456b9d16",
   "metadata": {},
   "outputs": [],
   "source": [
    "rk.test_everything(model2,d,show_debug=True)"
   ]
  },
  {
   "cell_type": "code",
   "execution_count": null,
   "id": "3b1e31f7-ea26-42b3-8364-f6bbd7b0d656",
   "metadata": {},
   "outputs": [],
   "source": []
  }
 ],
 "metadata": {
  "kernelspec": {
   "display_name": "Python 3 (ipykernel)",
   "language": "python",
   "name": "python3"
  },
  "language_info": {
   "codemirror_mode": {
    "name": "ipython",
    "version": 3
   },
   "file_extension": ".py",
   "mimetype": "text/x-python",
   "name": "python",
   "nbconvert_exporter": "python",
   "pygments_lexer": "ipython3",
   "version": "3.9.5"
  }
 },
 "nbformat": 4,
 "nbformat_minor": 5
}
