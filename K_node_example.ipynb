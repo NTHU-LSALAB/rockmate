{
 "cells": [
  {
   "cell_type": "code",
   "execution_count": 4,
   "id": "db24c677-7c23-461b-a35b-62137e990ca2",
   "metadata": {},
   "outputs": [],
   "source": [
    "import torch\n",
    "import torch.nn as nn\n",
    "import read_trace_code\n",
    "import Btools\n",
    "import D_gr_to_DF_gr\n",
    "import Ktools\n",
    "from importlib import reload"
   ]
  },
  {
   "cell_type": "code",
   "execution_count": 26,
   "id": "660580fe-0c49-4b00-a599-7093dd652c56",
   "metadata": {},
   "outputs": [],
   "source": [
    "class MiniMod(nn.Module):\n",
    "    def __init__(self):\n",
    "        super().__init__()\n",
    "        self.bloc = nn.Sequential (\n",
    "            nn.ReLU(),\n",
    "            nn.Linear(128,512),\n",
    "            nn.ReLU(),\n",
    "            nn.Linear(512,10),\n",
    "        )\n",
    "    def forward(self,x):\n",
    "        y = self.bloc(x)\n",
    "        return y"
   ]
  },
  {
   "cell_type": "code",
   "execution_count": 30,
   "id": "5bd482fa-9986-4c13-9616-1afda86862cc",
   "metadata": {},
   "outputs": [],
   "source": [
    "class MyMod(nn.Module):\n",
    "    def __init__(self):\n",
    "        super().__init__()\n",
    "        super().__init__()\n",
    "        self.op = MiniMod()\n",
    "    def forward(self,x):\n",
    "        z1 = self.op(x)\n",
    "        z2 = self.op(-x)\n",
    "        #z1.relu_()\n",
    "        return z1 + 2*z2\n",
    "    \n",
    "mymod = MyMod()\n",
    "src_mymod = torch.randn((128),requires_grad=True)"
   ]
  },
  {
   "cell_type": "code",
   "execution_count": 31,
   "id": "c4ae9eb4-6439-4227-8d7f-f183e92bca3a",
   "metadata": {},
   "outputs": [],
   "source": [
    "mymod_Bg = read_trace_code.main(mymod,(src_mymod,))\n",
    "mymod_Dg = Btools.B_to_D(mymod_Bg)"
   ]
  },
  {
   "cell_type": "code",
   "execution_count": 32,
   "id": "15c5de3f-3ab4-41fc-bce6-17e02b62e587",
   "metadata": {},
   "outputs": [
    {
     "name": "stdout",
     "output_type": "stream",
     "text": [
      "{}\n",
      "def main(x):\n",
      "\t__8_fv = torch.relu(x)\n",
      "\t__11_input = torch.nn.functional.linear(__8_fv,self.op.bloc[1].weight,self.op.bloc[1].bias)\n",
      "\t__14_z1 = torch.nn.functional.linear(__11_input,self.op.bloc[2].weight,self.op.bloc[2].bias)\n",
      "\t__15_input = torch.neg(x)\n",
      "\t__22_fv = torch.relu(__15_input)\n",
      "\t__25_input = torch.nn.functional.linear(__22_fv,self.op.bloc[1].weight,self.op.bloc[1].bias)\n",
      "\t__28_z2 = torch.nn.functional.linear(__25_input,self.op.bloc[2].weight,self.op.bloc[2].bias)\n",
      "\t__16__1 = torch.mul(__28_z2,tensor(2))\n",
      "\t__29_fv = torch.add(__14_z1,__16__1)\n",
      "\treturn __29_fv\n"
     ]
    },
    {
     "data": {
      "text/plain": [
       "tensor([ 0.5651,  0.0574,  0.2103,  0.8296, -0.4481, -0.4275,  0.1476, -0.3613,\n",
       "        -0.2945,  0.1699], grad_fn=<AddBackward0>)"
      ]
     },
     "execution_count": 32,
     "metadata": {},
     "output_type": "execute_result"
    }
   ],
   "source": [
    "Btools.print_code(mymod_Dg)\n",
    "Btools.test_code(mymod_Dg,mymod,{\"x\":src_mymod})"
   ]
  },
  {
   "cell_type": "code",
   "execution_count": 40,
   "id": "95f43cdd-2ab2-4fe1-9383-c799311584cd",
   "metadata": {},
   "outputs": [
    {
     "name": "stdout",
     "output_type": "stream",
     "text": [
      "x\n",
      "__8_fv\n",
      "True\n",
      "__11_input\n",
      "True\n",
      "__14_z1\n",
      "True\n",
      "__15_input\n",
      "True\n",
      "__22_fv\n",
      "True\n",
      "__25_input\n",
      "True\n",
      "__28_z2\n",
      "True\n",
      "__16__1\n",
      "True\n",
      "__29_fv\n",
      "True\n"
     ]
    }
   ],
   "source": [
    "reload(D_gr_to_DF_gr)\n",
    "dict_Kfwd,dict_Kbwd = D_gr_to_DF_gr.make_k_nodes(mymod_Dg,mymod,dict_inputs={\"x\":src_mymod},show_debug=True)"
   ]
  },
  {
   "cell_type": "code",
   "execution_count": 41,
   "id": "1fd6a9b8-26c2-4aba-b596-bd61e313a71e",
   "metadata": {},
   "outputs": [
    {
     "name": "stderr",
     "output_type": "stream",
     "text": [
      "Icon theme \"gnome\" not found.\n",
      "Icon theme \"Mint-X\" not found.\n",
      "Icon theme \"elementary\" not found.\n",
      "Icon theme \"gnome\" not found.\n",
      "Icon theme \"gnome\" not found.\n",
      "Icon theme \"Mint-X\" not found.\n",
      "Icon theme \"elementary\" not found.\n",
      "Icon theme \"gnome\" not found.\n",
      "Icon theme \"gnome\" not found.\n",
      "Icon theme \"Mint-X\" not found.\n",
      "Icon theme \"elementary\" not found.\n",
      "Icon theme \"gnome\" not found.\n"
     ]
    }
   ],
   "source": [
    "reload(Ktools)\n",
    "Ktools.print_K_nodes(dict_Kfwd,dict_Kbwd)"
   ]
  },
  {
   "cell_type": "code",
   "execution_count": null,
   "id": "6fb5c835-ef3e-46ec-a696-03a1cfcff357",
   "metadata": {},
   "outputs": [],
   "source": []
  }
 ],
 "metadata": {
  "kernelspec": {
   "display_name": "Python 3 (ipykernel)",
   "language": "python",
   "name": "python3"
  },
  "language_info": {
   "codemirror_mode": {
    "name": "ipython",
    "version": 3
   },
   "file_extension": ".py",
   "mimetype": "text/x-python",
   "name": "python",
   "nbconvert_exporter": "python",
   "pygments_lexer": "ipython3",
   "version": "3.9.5"
  }
 },
 "nbformat": 4,
 "nbformat_minor": 5
}
